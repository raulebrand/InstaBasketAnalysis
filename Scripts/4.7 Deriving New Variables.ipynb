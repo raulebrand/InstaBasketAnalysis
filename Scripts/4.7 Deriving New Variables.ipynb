{
 "cells": [
  {
   "cell_type": "code",
   "execution_count": 1,
   "id": "2bc667d1",
   "metadata": {},
   "outputs": [],
   "source": [
    "#Import libraries\n",
    "import pandas as pd\n",
    "import numpy as np\n",
    "import os"
   ]
  },
  {
   "cell_type": "code",
   "execution_count": 2,
   "id": "4d82d31a",
   "metadata": {},
   "outputs": [],
   "source": [
    "#creating path\n",
    "path = r'C:\\Users\\rbrand\\12-28-2024 Instacart Basket Analysis'"
   ]
  },
  {
   "cell_type": "code",
   "execution_count": 3,
   "id": "64e19fcc",
   "metadata": {},
   "outputs": [],
   "source": [
    "#Importing ords_prods_merge.csv data set from prepared data.\n",
    "file_path = os.path.join(path, '02 Data', 'Prepared Data', 'ords_prods_merge.pkl')"
   ]
  },
  {
   "cell_type": "code",
   "execution_count": 4,
   "id": "dd78fc6e",
   "metadata": {},
   "outputs": [],
   "source": [
    "#Using the read.pickle to import data frame.\n",
    "ords_prods_merge = pd.read_pickle(file_path)"
   ]
  },
  {
   "cell_type": "code",
   "execution_count": 5,
   "id": "ca9d4201",
   "metadata": {},
   "outputs": [
    {
     "data": {
      "text/html": [
       "<div>\n",
       "<style scoped>\n",
       "    .dataframe tbody tr th:only-of-type {\n",
       "        vertical-align: middle;\n",
       "    }\n",
       "\n",
       "    .dataframe tbody tr th {\n",
       "        vertical-align: top;\n",
       "    }\n",
       "\n",
       "    .dataframe thead th {\n",
       "        text-align: right;\n",
       "    }\n",
       "</style>\n",
       "<table border=\"1\" class=\"dataframe\">\n",
       "  <thead>\n",
       "    <tr style=\"text-align: right;\">\n",
       "      <th></th>\n",
       "      <th>Unnamed: 0_x</th>\n",
       "      <th>order_id</th>\n",
       "      <th>user_id</th>\n",
       "      <th>order_number</th>\n",
       "      <th>orders_day_of_week</th>\n",
       "      <th>order_hour_of_day</th>\n",
       "      <th>order_frequency_days</th>\n",
       "      <th>product_id</th>\n",
       "      <th>add_to_cart_order</th>\n",
       "      <th>reordered</th>\n",
       "      <th>_merge</th>\n",
       "      <th>Unnamed: 0_y</th>\n",
       "      <th>product_name</th>\n",
       "      <th>aisle_id</th>\n",
       "      <th>department_id</th>\n",
       "      <th>prices</th>\n",
       "      <th>merge_flag</th>\n",
       "    </tr>\n",
       "  </thead>\n",
       "  <tbody>\n",
       "    <tr>\n",
       "      <th>0</th>\n",
       "      <td>0</td>\n",
       "      <td>2539329</td>\n",
       "      <td>1</td>\n",
       "      <td>1</td>\n",
       "      <td>2</td>\n",
       "      <td>8</td>\n",
       "      <td>NaN</td>\n",
       "      <td>196</td>\n",
       "      <td>1</td>\n",
       "      <td>0</td>\n",
       "      <td>both</td>\n",
       "      <td>195</td>\n",
       "      <td>Soda</td>\n",
       "      <td>77</td>\n",
       "      <td>7</td>\n",
       "      <td>9.0</td>\n",
       "      <td>both</td>\n",
       "    </tr>\n",
       "    <tr>\n",
       "      <th>1</th>\n",
       "      <td>1</td>\n",
       "      <td>2398795</td>\n",
       "      <td>1</td>\n",
       "      <td>2</td>\n",
       "      <td>3</td>\n",
       "      <td>7</td>\n",
       "      <td>15.0</td>\n",
       "      <td>196</td>\n",
       "      <td>1</td>\n",
       "      <td>1</td>\n",
       "      <td>both</td>\n",
       "      <td>195</td>\n",
       "      <td>Soda</td>\n",
       "      <td>77</td>\n",
       "      <td>7</td>\n",
       "      <td>9.0</td>\n",
       "      <td>both</td>\n",
       "    </tr>\n",
       "    <tr>\n",
       "      <th>2</th>\n",
       "      <td>2</td>\n",
       "      <td>473747</td>\n",
       "      <td>1</td>\n",
       "      <td>3</td>\n",
       "      <td>3</td>\n",
       "      <td>12</td>\n",
       "      <td>21.0</td>\n",
       "      <td>196</td>\n",
       "      <td>1</td>\n",
       "      <td>1</td>\n",
       "      <td>both</td>\n",
       "      <td>195</td>\n",
       "      <td>Soda</td>\n",
       "      <td>77</td>\n",
       "      <td>7</td>\n",
       "      <td>9.0</td>\n",
       "      <td>both</td>\n",
       "    </tr>\n",
       "    <tr>\n",
       "      <th>3</th>\n",
       "      <td>3</td>\n",
       "      <td>2254736</td>\n",
       "      <td>1</td>\n",
       "      <td>4</td>\n",
       "      <td>4</td>\n",
       "      <td>7</td>\n",
       "      <td>29.0</td>\n",
       "      <td>196</td>\n",
       "      <td>1</td>\n",
       "      <td>1</td>\n",
       "      <td>both</td>\n",
       "      <td>195</td>\n",
       "      <td>Soda</td>\n",
       "      <td>77</td>\n",
       "      <td>7</td>\n",
       "      <td>9.0</td>\n",
       "      <td>both</td>\n",
       "    </tr>\n",
       "    <tr>\n",
       "      <th>4</th>\n",
       "      <td>4</td>\n",
       "      <td>431534</td>\n",
       "      <td>1</td>\n",
       "      <td>5</td>\n",
       "      <td>4</td>\n",
       "      <td>15</td>\n",
       "      <td>28.0</td>\n",
       "      <td>196</td>\n",
       "      <td>1</td>\n",
       "      <td>1</td>\n",
       "      <td>both</td>\n",
       "      <td>195</td>\n",
       "      <td>Soda</td>\n",
       "      <td>77</td>\n",
       "      <td>7</td>\n",
       "      <td>9.0</td>\n",
       "      <td>both</td>\n",
       "    </tr>\n",
       "  </tbody>\n",
       "</table>\n",
       "</div>"
      ],
      "text/plain": [
       "   Unnamed: 0_x  order_id  user_id  order_number  orders_day_of_week  \\\n",
       "0             0   2539329        1             1                   2   \n",
       "1             1   2398795        1             2                   3   \n",
       "2             2    473747        1             3                   3   \n",
       "3             3   2254736        1             4                   4   \n",
       "4             4    431534        1             5                   4   \n",
       "\n",
       "   order_hour_of_day  order_frequency_days  product_id  add_to_cart_order  \\\n",
       "0                  8                   NaN         196                  1   \n",
       "1                  7                  15.0         196                  1   \n",
       "2                 12                  21.0         196                  1   \n",
       "3                  7                  29.0         196                  1   \n",
       "4                 15                  28.0         196                  1   \n",
       "\n",
       "   reordered _merge  Unnamed: 0_y product_name  aisle_id  department_id  \\\n",
       "0          0   both           195         Soda        77              7   \n",
       "1          1   both           195         Soda        77              7   \n",
       "2          1   both           195         Soda        77              7   \n",
       "3          1   both           195         Soda        77              7   \n",
       "4          1   both           195         Soda        77              7   \n",
       "\n",
       "   prices merge_flag  \n",
       "0     9.0       both  \n",
       "1     9.0       both  \n",
       "2     9.0       both  \n",
       "3     9.0       both  \n",
       "4     9.0       both  "
      ]
     },
     "execution_count": 5,
     "metadata": {},
     "output_type": "execute_result"
    }
   ],
   "source": [
    "#Checking the data frame import.\n",
    "ords_prods_merge.head()"
   ]
  },
  {
   "cell_type": "code",
   "execution_count": 6,
   "id": "ade57d81",
   "metadata": {},
   "outputs": [],
   "source": [
    "#Creating subset to reduce dataframe\n",
    "df = ords_prods_merge[:1000000]"
   ]
  },
  {
   "cell_type": "code",
   "execution_count": 7,
   "id": "5d476480",
   "metadata": {},
   "outputs": [
    {
     "data": {
      "text/plain": [
       "(1000000, 17)"
      ]
     },
     "execution_count": 7,
     "metadata": {},
     "output_type": "execute_result"
    }
   ],
   "source": [
    "df.shape"
   ]
  },
  {
   "cell_type": "code",
   "execution_count": 8,
   "id": "7e81d68a",
   "metadata": {},
   "outputs": [],
   "source": [
    "#Defining the price_label - Applying a string label to every row within the dataframe, designating as low-,mid-, or high-range product based on its price..\n",
    "def price_label(row):\n",
    "    if row['prices'] <= 5:\n",
    "        return 'Low-range product'\n",
    "    elif (row['prices'] > 5) and (row['prices'] <= 15):\n",
    "        return 'Mid-range product'\n",
    "    elif row['prices'] > 15:\n",
    "        return 'High range product'\n",
    "    else: return np.nan"
   ]
  },
  {
   "cell_type": "code",
   "execution_count": 10,
   "id": "b81e138d",
   "metadata": {},
   "outputs": [
    {
     "name": "stderr",
     "output_type": "stream",
     "text": [
      "C:\\Users\\rbrand\\AppData\\Local\\Temp\\ipykernel_15976\\1244589412.py:2: SettingWithCopyWarning: \n",
      "A value is trying to be set on a copy of a slice from a DataFrame.\n",
      "Try using .loc[row_indexer,col_indexer] = value instead\n",
      "\n",
      "See the caveats in the documentation: https://pandas.pydata.org/pandas-docs/stable/user_guide/indexing.html#returning-a-view-versus-a-copy\n",
      "  df['price_range'] = df.apply(price_label, axis=1)\n"
     ]
    }
   ],
   "source": [
    "#Applying the function to create a new column within the df dataframe called “price_range” and designates it as the location for your labels\n",
    "df['price_range'] = df.apply(price_label, axis=1)"
   ]
  },
  {
   "cell_type": "code",
   "execution_count": 11,
   "id": "edef6c76",
   "metadata": {},
   "outputs": [
    {
     "data": {
      "text/plain": [
       "price_range\n",
       "Mid-range product    756450\n",
       "Low-range product    243550\n",
       "Name: count, dtype: int64"
      ]
     },
     "execution_count": 11,
     "metadata": {},
     "output_type": "execute_result"
    }
   ],
   "source": [
    "#Running the value_counts fuction to check values in the new column.\n",
    "df['price_range'].value_counts(dropna = False)"
   ]
  },
  {
   "cell_type": "code",
   "execution_count": 12,
   "id": "c4efba6b",
   "metadata": {},
   "outputs": [
    {
     "data": {
      "text/plain": [
       "14.8"
      ]
     },
     "execution_count": 12,
     "metadata": {},
     "output_type": "execute_result"
    }
   ],
   "source": [
    "#checking max.for most expensive product within the subset\n",
    "df['prices'].max()"
   ]
  },
  {
   "cell_type": "code",
   "execution_count": 13,
   "id": "fb699e06",
   "metadata": {},
   "outputs": [],
   "source": [
    "#creating user-defined functions to create conditions.\n",
    "#if = df.loc[df['prices'] > 15,\n",
    "#then = 'price_range_loc'] = 'High-range product'\n",
    "\n",
    "ords_prods_merge.loc[ords_prods_merge['prices'] > 15, 'price_range_loc'] = 'High-range product'"
   ]
  },
  {
   "cell_type": "code",
   "execution_count": 14,
   "id": "d97d6397",
   "metadata": {},
   "outputs": [],
   "source": [
    "#if = df.loc[(df['prices'] <= 15) & (df['prices'] > 5),\n",
    "#then = 'price_range_loc'] = 'Mid-range product'\n",
    "ords_prods_merge.loc[(ords_prods_merge['prices'] <= 15) & (ords_prods_merge['prices'] > 5), 'price_range_loc'] = 'Mid-range product' "
   ]
  },
  {
   "cell_type": "code",
   "execution_count": 15,
   "id": "d91f1e57",
   "metadata": {},
   "outputs": [],
   "source": [
    "ords_prods_merge.loc[ords_prods_merge['prices'] <= 5, 'price_range_loc'] = 'Low-range product'"
   ]
  },
  {
   "cell_type": "code",
   "execution_count": 16,
   "id": "e15d447b",
   "metadata": {},
   "outputs": [
    {
     "data": {
      "text/plain": [
       "price_range_loc\n",
       "Mid-range product     21860860\n",
       "Low-range product     10126321\n",
       "High-range product      417678\n",
       "Name: count, dtype: int64"
      ]
     },
     "execution_count": 16,
     "metadata": {},
     "output_type": "execute_result"
    }
   ],
   "source": [
    "#Using value_counts fuction to count the number of products withing each label.\n",
    "ords_prods_merge['price_range_loc'].value_counts(dropna= False)"
   ]
  },
  {
   "cell_type": "markdown",
   "id": "76ea132d",
   "metadata": {},
   "source": [
    "Thanks to loc(), I can now filter the entire dataframe rather than just a subset. "
   ]
  },
  {
   "cell_type": "code",
   "execution_count": 17,
   "id": "bed72b6f",
   "metadata": {},
   "outputs": [
    {
     "name": "stdout",
     "output_type": "stream",
     "text": [
      "My age is 30\n"
     ]
    }
   ],
   "source": [
    "#Print statement w/out a for-loop\n",
    "print('My age is 30')"
   ]
  },
  {
   "cell_type": "code",
   "execution_count": 18,
   "id": "fe1de36e",
   "metadata": {},
   "outputs": [
    {
     "name": "stdout",
     "output_type": "stream",
     "text": [
      "My age is 31\n"
     ]
    }
   ],
   "source": [
    "print('My age is 31')"
   ]
  },
  {
   "cell_type": "code",
   "execution_count": 19,
   "id": "a1a8de4a",
   "metadata": {},
   "outputs": [
    {
     "name": "stdout",
     "output_type": "stream",
     "text": [
      "My age is 32\n"
     ]
    }
   ],
   "source": [
    "print('My age is 32')"
   ]
  },
  {
   "cell_type": "code",
   "execution_count": 20,
   "id": "bb13f507",
   "metadata": {},
   "outputs": [
    {
     "name": "stdout",
     "output_type": "stream",
     "text": [
      "My age is 33\n"
     ]
    }
   ],
   "source": [
    "print('My age is 33')"
   ]
  },
  {
   "cell_type": "code",
   "execution_count": 21,
   "id": "41052e4b",
   "metadata": {},
   "outputs": [
    {
     "name": "stdout",
     "output_type": "stream",
     "text": [
      "My age is 30\n",
      "My age is 31\n",
      "My age is 32\n",
      "My age is 33\n",
      "My age is 34\n",
      "My age is 35\n",
      "My age is 36\n",
      "My age is 37\n",
      "My age is 38\n",
      "My age is 39\n",
      "My age is 40\n",
      "My age is 41\n",
      "My age is 42\n",
      "My age is 43\n",
      "My age is 44\n"
     ]
    }
   ],
   "source": [
    "#with a for-loop, however:we can print everything with a single command:\n",
    "for x in range(30,45):\n",
    "    print(\"My age is %d\" % (x))"
   ]
  },
  {
   "cell_type": "code",
   "execution_count": 22,
   "id": "f1bf638f",
   "metadata": {},
   "outputs": [
    {
     "data": {
      "text/plain": [
       "orders_day_of_week\n",
       "0    6204182\n",
       "1    5660230\n",
       "6    4496490\n",
       "2    4213830\n",
       "5    4205791\n",
       "3    3840534\n",
       "4    3783802\n",
       "Name: count, dtype: int64"
      ]
     },
     "execution_count": 22,
     "metadata": {},
     "output_type": "execute_result"
    }
   ],
   "source": [
    "#printing the frequency of the orders_day_of_week column: \n",
    "ords_prods_merge['orders_day_of_week'].value_counts(dropna=False)"
   ]
  },
  {
   "cell_type": "code",
   "execution_count": 23,
   "id": "09e23754",
   "metadata": {},
   "outputs": [],
   "source": [
    "# Comparing the value with what we know are the busiest and slowest days.\n",
    "result = []\n",
    "\n",
    "for value in ords_prods_merge[\"orders_day_of_week\"]:\n",
    "    if value == 0:\n",
    "        result.append(\"Busiest day\")\n",
    "    elif value == 4:\n",
    "        result.append(\"Least busy\")\n",
    "    else:\n",
    "        result.append(\"Regularly busy\")\n"
   ]
  },
  {
   "cell_type": "code",
   "execution_count": 24,
   "id": "46c246d2",
   "metadata": {},
   "outputs": [],
   "source": [
    "#creating new columns with the dataframe and setting equel results to:\n",
    "ords_prods_merge['busiest_day'] = result"
   ]
  },
  {
   "cell_type": "code",
   "execution_count": 25,
   "id": "312354b0",
   "metadata": {},
   "outputs": [
    {
     "data": {
      "text/plain": [
       "busiest_day\n",
       "Regularly busy    22416875\n",
       "Busiest day        6204182\n",
       "Least busy         3783802\n",
       "Name: count, dtype: int64"
      ]
     },
     "execution_count": 25,
     "metadata": {},
     "output_type": "execute_result"
    }
   ],
   "source": [
    "ords_prods_merge['busiest_day'].value_counts (dropna = False)"
   ]
  },
  {
   "cell_type": "code",
   "execution_count": 26,
   "id": "def2e402",
   "metadata": {},
   "outputs": [
    {
     "name": "stdout",
     "output_type": "stream",
     "text": [
      "Frequency of busiest_day column:\n",
      "busiest_day\n",
      "Regularly busy    22416875\n",
      "Busiest day        6204182\n",
      "Least busy         3783802\n",
      "Name: count, dtype: int64\n"
     ]
    }
   ],
   "source": [
    "# Printing the frequency of the new column 'busiest_day'\n",
    "print(\"Frequency of busiest_day column:\")\n",
    "print(ords_prods_merge['busiest_day'].value_counts(dropna=False))"
   ]
  },
  {
   "cell_type": "code",
   "execution_count": 27,
   "id": "d470c652",
   "metadata": {},
   "outputs": [
    {
     "name": "stdout",
     "output_type": "stream",
     "text": [
      "\n",
      "Frequency of orders_day_of_week column:\n",
      "orders_day_of_week\n",
      "0    6204182\n",
      "1    5660230\n",
      "6    4496490\n",
      "2    4213830\n",
      "5    4205791\n",
      "3    3840534\n",
      "4    3783802\n",
      "Name: count, dtype: int64\n"
     ]
    }
   ],
   "source": [
    "# Printing the frequency of the 'orders_day_of_week' column for cross-checking\n",
    "print(\"\\nFrequency of orders_day_of_week column:\")\n",
    "print(ords_prods_merge['orders_day_of_week'].value_counts(dropna=False))"
   ]
  },
  {
   "cell_type": "code",
   "execution_count": null,
   "id": "fe0e3a54",
   "metadata": {},
   "outputs": [],
   "source": [
    "----------------------------------------------------------------------------------------------"
   ]
  },
  {
   "cell_type": "markdown",
   "id": "c0cdd2e4",
   "metadata": {},
   "source": [
    "Exercise 4.7"
   ]
  },
  {
   "cell_type": "code",
   "execution_count": 33,
   "id": "f8a9bf41",
   "metadata": {},
   "outputs": [],
   "source": [
    "#1. Done"
   ]
  },
  {
   "cell_type": "code",
   "execution_count": 34,
   "id": "d63e8815",
   "metadata": {},
   "outputs": [],
   "source": [
    "#2 Creating an empty list to store the results for this exercise\n",
    "result = []"
   ]
  },
  {
   "cell_type": "code",
   "execution_count": 35,
   "id": "d04d506a",
   "metadata": {},
   "outputs": [],
   "source": [
    "# Determine the two busiest and slowest days per client request\n",
    "busiest_days = ords_prods_merge['orders_day_of_week'].value_counts().nlargest(2).index\n",
    "slowest_days = ords_prods_merge['orders_day_of_week'].value_counts().nsmallest(2).index"
   ]
  },
  {
   "cell_type": "code",
   "execution_count": 36,
   "id": "499ce190",
   "metadata": {},
   "outputs": [
    {
     "name": "stdout",
     "output_type": "stream",
     "text": [
      "Busiest Days: Index([0, 1], dtype='int64', name='orders_day_of_week')\n",
      "Slowest Days: Index([4, 3], dtype='int64', name='orders_day_of_week')\n"
     ]
    }
   ],
   "source": [
    "print(\"Busiest Days:\", busiest_days)\n",
    "print(\"Slowest Days:\", slowest_days)"
   ]
  },
  {
   "cell_type": "code",
   "execution_count": 37,
   "id": "c0db85fc",
   "metadata": {},
   "outputs": [],
   "source": [
    "#Looping through the \"orders_day_of_week\" column and assigning labels based on the conditions of the client\n",
    "for value in ords_prods_merge[\"orders_day_of_week\"]:\n",
    "    if value in busiest_days:\n",
    "        result.append(\"Busiest days\")\n",
    "    elif value in slowest_days:\n",
    "        result.append(\"Slowest days\")\n",
    "    else:\n",
    "        result.append(\"Regularly busy\")"
   ]
  },
  {
   "cell_type": "code",
   "execution_count": 38,
   "id": "1f0421c6",
   "metadata": {},
   "outputs": [],
   "source": [
    "# Creating a new column in the dataframe and setting it equal to the result list\n",
    "ords_prods_merge['new_busiest_days'] = result"
   ]
  },
  {
   "cell_type": "code",
   "execution_count": 41,
   "id": "96301f99",
   "metadata": {},
   "outputs": [
    {
     "name": "stdout",
     "output_type": "stream",
     "text": [
      "Values of new_busiest_days column:\n",
      "new_busiest_days\n",
      "Regularly busy    12916111\n",
      "Busiest days      11864412\n",
      "Slowest days       7624336\n",
      "Name: count, dtype: int64\n"
     ]
    }
   ],
   "source": [
    "#3 Checking the values of the new column for accuracy\n",
    "print(\"Values of new_busiest_days column:\")\n",
    "print(ords_prods_merge['new_busiest_days'].value_counts())"
   ]
  },
  {
   "cell_type": "markdown",
   "id": "67166851",
   "metadata": {},
   "source": [
    "After updating the labels in the \"new_busiest_days\" column, I reviewed the frequency distribution:\n",
    "\n",
    "- **Regularly busy:** The label represents the days other than the two busiest and two slowest days, and it has the highest frequency.\n",
    "- **Busiest days:** This label corresponds to the two busiest days and has a significant frequency, indicating high order volumes on those days per client request.\n",
    "- **Slowest days:** The label for the two slowest days also has a considerable but lower frequency compared to the busiest days per client request.\n",
    "\n",
    "The frequencies align with expectations, and the new column provides a clear categorization of days based on order activity. The clients' request for plural labels (\"Busiest days\" and \"Slowest days\") has been successfully implemented.\n"
   ]
  },
  {
   "cell_type": "code",
   "execution_count": 42,
   "id": "f583ca7d",
   "metadata": {},
   "outputs": [],
   "source": [
    "#4. Creating a new column to categorize busiest periods of the day per tech officer request.\n",
    "ords_prods_merge['busiest_period_of_day'] = \"\""
   ]
  },
  {
   "cell_type": "code",
   "execution_count": 43,
   "id": "3caacbc0",
   "metadata": {},
   "outputs": [],
   "source": [
    "# Determining the categs hours per request, using 70% for most orders and 30% for fewest\n",
    "most_orders_threshold = ords_prods_merge['order_hour_of_day'].value_counts().max() * 0.7\n",
    "fewest_orders_threshold = ords_prods_merge['order_hour_of_day'].value_counts().max() * 0.3"
   ]
  },
  {
   "cell_type": "code",
   "execution_count": 44,
   "id": "85451876",
   "metadata": {},
   "outputs": [],
   "source": [
    "for hour, count in ords_prods_merge['order_hour_of_day'].value_counts().items():\n",
    "    if count >= most_orders_threshold:\n",
    "        ords_prods_merge.loc[ords_prods_merge['order_hour_of_day'] == hour, 'busiest_period_of_day'] = \"Most orders\"\n",
    "    elif count <= fewest_orders_threshold:\n",
    "        ords_prods_merge.loc[ords_prods_merge['order_hour_of_day'] == hour, 'busiest_period_of_day'] = \"Fewest orders\"\n",
    "    else:\n",
    "        ords_prods_merge.loc[ords_prods_merge['order_hour_of_day'] == hour, 'busiest_period_of_day'] = \"Average orders\""
   ]
  },
  {
   "cell_type": "markdown",
   "id": "9c92b314",
   "metadata": {},
   "source": [
    "Calculated based on the maximum frequency of orders during a specific hour.\n",
    "- most_orders_threshold: This threshold is set at 70% of the maximum frequency. Any hour with an order frequency above this threshold will be labeled as \"Most orders.\" captures the peak hours with the highest order activity.\n",
    "- fewest_orders_threshold: This threshold is set at 30% of the maximum frequency. Any hour with an order frequency below this threshold will be labeled as \"Fewest orders.\" Identify the hours with the least order activity.\n",
    "\n",
    "The idea behind using percentages (0.7 and 0.3) is to make the categorization relative to the maximum frequency, ensuring that the labels are sensitive to the overall distribution of order frequencies across different hours per the request #4."
   ]
  },
  {
   "cell_type": "code",
   "execution_count": 45,
   "id": "379bb969",
   "metadata": {},
   "outputs": [
    {
     "name": "stdout",
     "output_type": "stream",
     "text": [
      "Frequency of busiest_period_of_day column:\n",
      "busiest_period_of_day\n",
      "Most orders       23205725\n",
      "Average orders     6480135\n",
      "Fewest orders      2718999\n",
      "Name: count, dtype: int64\n"
     ]
    }
   ],
   "source": [
    "# Printing the frequency of the new column 'busiest_period_of_day'\n",
    "print(\"Frequency of busiest_period_of_day column:\")\n",
    "print(ords_prods_merge['busiest_period_of_day'].value_counts(dropna=False))"
   ]
  },
  {
   "cell_type": "code",
   "execution_count": 46,
   "id": "77caa637",
   "metadata": {},
   "outputs": [],
   "source": [
    "#7.Exporting the ords_prods_merge DataFrame as a Pickle file\n",
    "ords_prods_merge.to_pickle(os.path.join(path, '02 Data', 'Prepared Data', 'ords_prods_merge.pkl'))"
   ]
  },
  {
   "cell_type": "code",
   "execution_count": null,
   "id": "83b5eee3",
   "metadata": {},
   "outputs": [],
   "source": []
  }
 ],
 "metadata": {
  "kernelspec": {
   "display_name": "Python 3 (ipykernel)",
   "language": "python",
   "name": "python3"
  },
  "language_info": {
   "codemirror_mode": {
    "name": "ipython",
    "version": 3
   },
   "file_extension": ".py",
   "mimetype": "text/x-python",
   "name": "python",
   "nbconvert_exporter": "python",
   "pygments_lexer": "ipython3",
   "version": "3.11.5"
  }
 },
 "nbformat": 4,
 "nbformat_minor": 5
}
