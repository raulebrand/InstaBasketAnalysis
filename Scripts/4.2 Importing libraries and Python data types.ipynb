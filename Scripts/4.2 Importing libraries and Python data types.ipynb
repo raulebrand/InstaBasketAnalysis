{
 "cells": [
  {
   "cell_type": "code",
   "execution_count": 1,
   "id": "e8074ad9",
   "metadata": {},
   "outputs": [],
   "source": [
    "#Import libraries\n",
    "import pandas as pd\n",
    "import numpy as np\n",
    "import os"
   ]
  },
  {
   "cell_type": "code",
   "execution_count": 27,
   "id": "2aa3b989",
   "metadata": {},
   "outputs": [],
   "source": [
    "##Python Data Types"
   ]
  },
  {
   "cell_type": "code",
   "execution_count": 28,
   "id": "38b50095",
   "metadata": {},
   "outputs": [
    {
     "data": {
      "text/plain": [
       "100"
      ]
     },
     "execution_count": 28,
     "metadata": {},
     "output_type": "execute_result"
    }
   ],
   "source": [
    "60+40"
   ]
  },
  {
   "cell_type": "code",
   "execution_count": 29,
   "id": "d9a95851",
   "metadata": {},
   "outputs": [
    {
     "data": {
      "text/plain": [
       "100"
      ]
     },
     "execution_count": 29,
     "metadata": {},
     "output_type": "execute_result"
    }
   ],
   "source": [
    "150-50"
   ]
  },
  {
   "cell_type": "code",
   "execution_count": 34,
   "id": "eb7dd3a1",
   "metadata": {},
   "outputs": [
    {
     "data": {
      "text/plain": [
       "100"
      ]
     },
     "execution_count": 34,
     "metadata": {},
     "output_type": "execute_result"
    }
   ],
   "source": [
    "(30 + 40) + (25 + 5)"
   ]
  },
  {
   "cell_type": "code",
   "execution_count": 36,
   "id": "1c88b304",
   "metadata": {},
   "outputs": [],
   "source": [
    "float_1=15.5"
   ]
  },
  {
   "cell_type": "code",
   "execution_count": 37,
   "id": "22460c71",
   "metadata": {},
   "outputs": [],
   "source": [
    "float_2=3.5"
   ]
  },
  {
   "cell_type": "code",
   "execution_count": 38,
   "id": "520a8bd0",
   "metadata": {},
   "outputs": [
    {
     "data": {
      "text/plain": [
       "4.428571428571429"
      ]
     },
     "execution_count": 38,
     "metadata": {},
     "output_type": "execute_result"
    }
   ],
   "source": [
    "float_1/float_2"
   ]
  },
  {
   "cell_type": "code",
   "execution_count": 49,
   "id": "21aaf9ea",
   "metadata": {},
   "outputs": [],
   "source": [
    "string1= 'Hello'"
   ]
  },
  {
   "cell_type": "code",
   "execution_count": 50,
   "id": "3c534ccb",
   "metadata": {},
   "outputs": [],
   "source": [
    "string2= 'Career foundry team'"
   ]
  },
  {
   "cell_type": "code",
   "execution_count": 51,
   "id": "80aa1b0c",
   "metadata": {},
   "outputs": [
    {
     "name": "stdout",
     "output_type": "stream",
     "text": [
      "Hello\n"
     ]
    }
   ],
   "source": [
    "print(string1)"
   ]
  },
  {
   "cell_type": "code",
   "execution_count": 52,
   "id": "726fe5ba",
   "metadata": {},
   "outputs": [
    {
     "name": "stdout",
     "output_type": "stream",
     "text": [
      "Career foundry team\n"
     ]
    }
   ],
   "source": [
    "print(string2)"
   ]
  },
  {
   "cell_type": "code",
   "execution_count": 54,
   "id": "b1b4de2d",
   "metadata": {},
   "outputs": [],
   "source": [
    "short_word = string1 + string2"
   ]
  },
  {
   "cell_type": "code",
   "execution_count": 56,
   "id": "ceec7606",
   "metadata": {},
   "outputs": [
    {
     "name": "stdout",
     "output_type": "stream",
     "text": [
      "short_word: HelloCareer foundry team\n"
     ]
    }
   ],
   "source": [
    "print('short_word:',short_word)"
   ]
  },
  {
   "cell_type": "code",
   "execution_count": 88,
   "id": "b0816182",
   "metadata": {},
   "outputs": [],
   "source": [
    "sentence1 = '  learning Python at CareerFoundry is an exciting journey.'"
   ]
  },
  {
   "cell_type": "code",
   "execution_count": 85,
   "id": "a7dce5f8",
   "metadata": {},
   "outputs": [],
   "source": [
    "sentence2 = ', the skills Im gaining will open up new opportunities in data science word.'"
   ]
  },
  {
   "cell_type": "code",
   "execution_count": 90,
   "id": "c44bcf03",
   "metadata": {},
   "outputs": [],
   "source": [
    "short_sentence1='Im thrilled about'+ sentence1"
   ]
  },
  {
   "cell_type": "code",
   "execution_count": 86,
   "id": "aec9d3d8",
   "metadata": {},
   "outputs": [],
   "source": [
    "short_sentence2='Furthermore'+ sentence2"
   ]
  },
  {
   "cell_type": "code",
   "execution_count": 91,
   "id": "ceca4619",
   "metadata": {},
   "outputs": [
    {
     "name": "stdout",
     "output_type": "stream",
     "text": [
      "short_sentence1: Im thrilled about  learning Python at CareerFoundry is an exciting journey.\n"
     ]
    }
   ],
   "source": [
    "print(\"short_sentence1:\",short_sentence1)"
   ]
  },
  {
   "cell_type": "code",
   "execution_count": 87,
   "id": "18a49d3b",
   "metadata": {},
   "outputs": [
    {
     "name": "stdout",
     "output_type": "stream",
     "text": [
      "short_sentence2: Furthermore, the skills Im gaining will open up new opportunities in data science word.\n"
     ]
    }
   ],
   "source": [
    "print(\"short_sentence2:\",short_sentence2)"
   ]
  },
  {
   "cell_type": "code",
   "execution_count": 1,
   "id": "32f714b0",
   "metadata": {},
   "outputs": [],
   "source": [
    "my_string = \"Excellence! \""
   ]
  },
  {
   "cell_type": "code",
   "execution_count": 2,
   "id": "353bd352",
   "metadata": {},
   "outputs": [],
   "source": [
    "repeated_string = my_string *100"
   ]
  },
  {
   "cell_type": "code",
   "execution_count": 3,
   "id": "8892c487",
   "metadata": {},
   "outputs": [
    {
     "name": "stdout",
     "output_type": "stream",
     "text": [
      "repeated_string: Excellence! Excellence! Excellence! Excellence! Excellence! Excellence! Excellence! Excellence! Excellence! Excellence! Excellence! Excellence! Excellence! Excellence! Excellence! Excellence! Excellence! Excellence! Excellence! Excellence! Excellence! Excellence! Excellence! Excellence! Excellence! Excellence! Excellence! Excellence! Excellence! Excellence! Excellence! Excellence! Excellence! Excellence! Excellence! Excellence! Excellence! Excellence! Excellence! Excellence! Excellence! Excellence! Excellence! Excellence! Excellence! Excellence! Excellence! Excellence! Excellence! Excellence! Excellence! Excellence! Excellence! Excellence! Excellence! Excellence! Excellence! Excellence! Excellence! Excellence! Excellence! Excellence! Excellence! Excellence! Excellence! Excellence! Excellence! Excellence! Excellence! Excellence! Excellence! Excellence! Excellence! Excellence! Excellence! Excellence! Excellence! Excellence! Excellence! Excellence! Excellence! Excellence! Excellence! Excellence! Excellence! Excellence! Excellence! Excellence! Excellence! Excellence! Excellence! Excellence! Excellence! Excellence! Excellence! Excellence! Excellence! Excellence! Excellence! Excellence! \n"
     ]
    }
   ],
   "source": [
    "print (\"repeated_string:\",repeated_string)"
   ]
  }
 ],
 "metadata": {
  "kernelspec": {
   "display_name": "Python 3 (ipykernel)",
   "language": "python",
   "name": "python3"
  },
  "language_info": {
   "codemirror_mode": {
    "name": "ipython",
    "version": 3
   },
   "file_extension": ".py",
   "mimetype": "text/x-python",
   "name": "python",
   "nbconvert_exporter": "python",
   "pygments_lexer": "ipython3",
   "version": "3.11.5"
  }
 },
 "nbformat": 4,
 "nbformat_minor": 5
}
